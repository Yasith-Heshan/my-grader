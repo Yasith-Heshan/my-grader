{
 "cells": [
  {
   "cell_type": "markdown",
   "id": "a591b306",
   "metadata": {},
   "source": [
    "# 👨‍🏫 Teacher Guide: Creating Assignments\n",
    "\n",
    "This notebook shows you **step-by-step** how to create homework assignments using the Local Grader System.\n",
    "\n",
    "## 📋 What You'll Learn:\n",
    "- How to create a new homework assignment\n",
    "- How to add different types of test cases\n",
    "- How to simulate student submissions\n",
    "- How to view grades and analytics\n",
    "\n",
    "## 🎯 Follow These Steps in Order!"
   ]
  },
  {
   "cell_type": "markdown",
   "id": "6faf1a84",
   "metadata": {},
   "source": [
    "## Step 1: Initialize the Grading System\n",
    "\n",
    "**Run this cell first** to load the grading system and create your homework assignment."
   ]
  },
  {
   "cell_type": "code",
   "execution_count": 1,
   "id": "10d422e2",
   "metadata": {},
   "outputs": [
    {
     "name": "stdout",
     "output_type": "stream",
     "text": [
      "✅ Created homework assignment: Python_Homework_1\n",
      "📁 Data will be stored in: grader_data/\n",
      "📊 Current max score: 0 points\n"
     ]
    }
   ],
   "source": [
    "# Import the Local Grader System\n",
    "from local_grader import LocalGrader\n",
    "import pandas as pd\n",
    "import numpy as np\n",
    "import math\n",
    "import matplotlib.pyplot as plt\n",
    "\n",
    "# STEP 1: Choose your homework name (CHANGE THIS for each assignment)\n",
    "homework_name = \"Python_Homework_1\"  # 📝 EDIT THIS NAME\n",
    "\n",
    "# Create the grader\n",
    "grader = LocalGrader(homework_name)\n",
    "\n",
    "print(f\"✅ Created homework assignment: {homework_name}\")\n",
    "print(f\"📁 Data will be stored in: grader_data/\")\n",
    "print(f\"📊 Current max score: {grader.homework_data['max_score']} points\")"
   ]
  },
  {
   "cell_type": "markdown",
   "id": "364ed2fb",
   "metadata": {},
   "source": [
    "## Step 2A: Add a Math Function Test\n",
    "\n",
    "**Example**: Testing if students can write a function to calculate circle area."
   ]
  },
  {
   "cell_type": "code",
   "execution_count": 2,
   "id": "30bd63f8",
   "metadata": {},
   "outputs": [
    {
     "name": "stdout",
     "output_type": "stream",
     "text": [
      "✅ Added test case 'circle_area_test' (10 points)\n",
      "✅ Added math function test (10 points)\n"
     ]
    }
   ],
   "source": [
    "# STEP 2A: Create a math function test\n",
    "def test_circle_area(submission):\n",
    "    \"\"\"\n",
    "    Test if the student correctly implemented circle_area function\n",
    "    \"\"\"\n",
    "    # Check if function exists\n",
    "    if 'circle_area' not in submission:\n",
    "        return {\"score\": 0, \"feedback\": \"❌ Function 'circle_area' not found!\"}\n",
    "    \n",
    "    func = submission['circle_area']\n",
    "    \n",
    "    # Test with multiple inputs\n",
    "    test_cases = [\n",
    "        (1, math.pi),           # radius=1, expected=π\n",
    "        (3, 9 * math.pi),       # radius=3, expected=9π\n",
    "        (0, 0),                 # radius=0, expected=0\n",
    "        (5.5, 30.25 * math.pi)  # radius=5.5, expected=30.25π\n",
    "    ]\n",
    "    \n",
    "    score = 0\n",
    "    feedback_parts = []\n",
    "    \n",
    "    for radius, expected in test_cases:\n",
    "        try:\n",
    "            result = func(radius)\n",
    "            if abs(result - expected) < 0.001:  # Allow small floating point errors\n",
    "                score += 1\n",
    "                feedback_parts.append(f\"✅ Correct for radius={radius}\")\n",
    "            else:\n",
    "                feedback_parts.append(f\"❌ Wrong for radius={radius}: got {result}, expected {expected:.3f}\")\n",
    "        except Exception as e:\n",
    "            feedback_parts.append(f\"❌ Error for radius={radius}: {str(e)}\")\n",
    "    \n",
    "    final_score = score / len(test_cases)\n",
    "    feedback = f\"Circle Area Test: {score}/{len(test_cases)} test cases passed\\n\" + \"\\n\".join(feedback_parts)\n",
    "    \n",
    "    return {\"score\": final_score, \"feedback\": feedback}\n",
    "\n",
    "# Add this test to your homework (10 points)\n",
    "grader.add_test_case(\n",
    "    test_name=\"circle_area_test\",\n",
    "    test_function=test_circle_area,\n",
    "    points=10,\n",
    "    description=\"Test circle area calculation function\"\n",
    ")\n",
    "\n",
    "print(\"✅ Added math function test (10 points)\")"
   ]
  },
  {
   "cell_type": "markdown",
   "id": "d90267f1",
   "metadata": {},
   "source": [
    "## Step 2B: Add a Data Analysis Test\n",
    "\n",
    "**Example**: Testing if students can create and manipulate DataFrames."
   ]
  },
  {
   "cell_type": "code",
   "execution_count": 3,
   "id": "fe1fd6bc",
   "metadata": {},
   "outputs": [
    {
     "name": "stdout",
     "output_type": "stream",
     "text": [
      "✅ Added test case 'dataframe_test' (15 points)\n",
      "✅ Added DataFrame test (15 points)\n"
     ]
    }
   ],
   "source": [
    "# STEP 2B: Create a DataFrame test\n",
    "def test_student_dataframe(submission):\n",
    "    \"\"\"\n",
    "    Test if student created a proper DataFrame with student data\n",
    "    \"\"\"\n",
    "    # Check if DataFrame exists\n",
    "    if 'student_data' not in submission:\n",
    "        return {\"score\": 0, \"feedback\": \"❌ Variable 'student_data' not found!\"}\n",
    "    \n",
    "    df = submission['student_data']\n",
    "    \n",
    "    # Check if it's actually a DataFrame\n",
    "    if not isinstance(df, pd.DataFrame):\n",
    "        return {\"score\": 0, \"feedback\": \"❌ 'student_data' is not a pandas DataFrame!\"}\n",
    "    \n",
    "    score = 0\n",
    "    max_score = 4\n",
    "    feedback_parts = []\n",
    "    \n",
    "    # Test 1: Check shape (should have at least 10 rows, 3 columns)\n",
    "    if df.shape[0] >= 10 and df.shape[1] >= 3:\n",
    "        score += 1\n",
    "        feedback_parts.append(f\"✅ Good shape: {df.shape} (at least 10 rows, 3 columns)\")\n",
    "    else:\n",
    "        feedback_parts.append(f\"❌ Shape too small: {df.shape} (need at least 10 rows, 3 columns)\")\n",
    "    \n",
    "    # Test 2: Check required columns\n",
    "    required_columns = ['name', 'age', 'grade']\n",
    "    if all(col in df.columns for col in required_columns):\n",
    "        score += 1\n",
    "        feedback_parts.append(\"✅ Has required columns: name, age, grade\")\n",
    "    else:\n",
    "        missing = [col for col in required_columns if col not in df.columns]\n",
    "        feedback_parts.append(f\"❌ Missing columns: {missing}\")\n",
    "    \n",
    "    # Test 3: Check data types\n",
    "    if 'age' in df.columns and pd.api.types.is_numeric_dtype(df['age']):\n",
    "        score += 1\n",
    "        feedback_parts.append(\"✅ Age column is numeric\")\n",
    "    else:\n",
    "        feedback_parts.append(\"❌ Age column should be numeric\")\n",
    "    \n",
    "    # Test 4: Check for no missing values\n",
    "    if df.isnull().sum().sum() == 0:\n",
    "        score += 1\n",
    "        feedback_parts.append(\"✅ No missing values\")\n",
    "    else:\n",
    "        feedback_parts.append(f\"❌ Has {df.isnull().sum().sum()} missing values\")\n",
    "    \n",
    "    final_score = score / max_score\n",
    "    feedback = f\"DataFrame Test: {score}/{max_score} requirements met\\n\" + \"\\n\".join(feedback_parts)\n",
    "    \n",
    "    return {\"score\": final_score, \"feedback\": feedback}\n",
    "\n",
    "# Add this test to your homework (15 points)\n",
    "grader.add_test_case(\n",
    "    test_name=\"dataframe_test\",\n",
    "    test_function=test_student_dataframe,\n",
    "    points=15,\n",
    "    description=\"Test DataFrame creation and structure\"\n",
    ")\n",
    "\n",
    "print(\"✅ Added DataFrame test (15 points)\")"
   ]
  },
  {
   "cell_type": "markdown",
   "id": "be632fc0",
   "metadata": {},
   "source": [
    "## Step 2C: Add an Algorithm Test\n",
    "\n",
    "**Example**: Testing if students can implement a sorting algorithm."
   ]
  },
  {
   "cell_type": "code",
   "execution_count": 4,
   "id": "154e9437",
   "metadata": {},
   "outputs": [
    {
     "name": "stdout",
     "output_type": "stream",
     "text": [
      "✅ Added test case 'sorting_test' (20 points)\n",
      "✅ Added sorting algorithm test (20 points)\n",
      "\n",
      "🎯 Total assignment worth: 45 points\n"
     ]
    }
   ],
   "source": [
    "# STEP 2C: Create an algorithm test\n",
    "def test_sorting_algorithm(submission):\n",
    "    \"\"\"\n",
    "    Test if student implemented a working sort function\n",
    "    \"\"\"\n",
    "    # Check if function exists\n",
    "    if 'my_sort' not in submission:\n",
    "        return {\"score\": 0, \"feedback\": \"❌ Function 'my_sort' not found!\"}\n",
    "    \n",
    "    func = submission['my_sort']\n",
    "    \n",
    "    # Test cases with different scenarios\n",
    "    test_cases = [\n",
    "        ([3, 1, 4, 1, 5], [1, 1, 3, 4, 5]),      # Regular case with duplicates\n",
    "        ([1], [1]),                               # Single element\n",
    "        ([], []),                                 # Empty list\n",
    "        ([5, 4, 3, 2, 1], [1, 2, 3, 4, 5]),     # Reverse sorted\n",
    "        ([1, 2, 3, 4, 5], [1, 2, 3, 4, 5])      # Already sorted\n",
    "    ]\n",
    "    \n",
    "    score = 0\n",
    "    feedback_parts = []\n",
    "    \n",
    "    for input_list, expected in test_cases:\n",
    "        try:\n",
    "            # Make a copy to avoid modifying original\n",
    "            test_input = input_list.copy()\n",
    "            result = func(test_input)\n",
    "            \n",
    "            if result == expected:\n",
    "                score += 1\n",
    "                feedback_parts.append(f\"✅ Correct for {input_list}\")\n",
    "            else:\n",
    "                feedback_parts.append(f\"❌ Wrong for {input_list}: got {result}, expected {expected}\")\n",
    "        except Exception as e:\n",
    "            feedback_parts.append(f\"❌ Error for {input_list}: {str(e)}\")\n",
    "    \n",
    "    final_score = score / len(test_cases)\n",
    "    feedback = f\"Sorting Test: {score}/{len(test_cases)} test cases passed\\n\" + \"\\n\".join(feedback_parts)\n",
    "    \n",
    "    return {\"score\": final_score, \"feedback\": feedback}\n",
    "\n",
    "# Add this test to your homework (20 points)\n",
    "grader.add_test_case(\n",
    "    test_name=\"sorting_test\",\n",
    "    test_function=test_sorting_algorithm,\n",
    "    points=20,\n",
    "    description=\"Test sorting algorithm implementation\"\n",
    ")\n",
    "\n",
    "print(\"✅ Added sorting algorithm test (20 points)\")\n",
    "print(f\"\\n🎯 Total assignment worth: {grader.homework_data['max_score']} points\")"
   ]
  },
  {
   "cell_type": "markdown",
   "id": "76cca6c8",
   "metadata": {},
   "source": [
    "## Step 3: Test Your Assignment\n",
    "\n",
    "**Create sample student submissions** to test if your grading works correctly."
   ]
  },
  {
   "cell_type": "code",
   "execution_count": 5,
   "id": "2ec67ae4",
   "metadata": {},
   "outputs": [
    {
     "name": "stdout",
     "output_type": "stream",
     "text": [
      "🎯 PERFECT STUDENT RESULTS:\n",
      "Total Score: 45.0/45 (100.0%)\n",
      "\n",
      "Detailed Results:\n",
      "  📝 circle_area_test: 10.0/10 points\n",
      "     Status: PASS\n",
      "     Feedback: Circle Area Test: 4/4 test cases passed\n",
      "✅ Correct for radius=1\n",
      "✅ Correct for radius=3\n",
      "✅ Correct for ...\n",
      "  📝 dataframe_test: 15.0/15 points\n",
      "     Status: PASS\n",
      "     Feedback: DataFrame Test: 4/4 requirements met\n",
      "✅ Good shape: (15, 3) (at least 10 rows, 3 columns)\n",
      "✅ Has requi...\n",
      "  📝 sorting_test: 20.0/20 points\n",
      "     Status: PASS\n",
      "     Feedback: Sorting Test: 5/5 test cases passed\n",
      "✅ Correct for [3, 1, 4, 1, 5]\n",
      "✅ Correct for [1]\n",
      "✅ Correct for []...\n"
     ]
    }
   ],
   "source": [
    "# STEP 3: Test with a perfect student submission\n",
    "\n",
    "# Perfect implementations\n",
    "def perfect_circle_area(radius):\n",
    "    return math.pi * radius * radius\n",
    "\n",
    "def perfect_sort(arr):\n",
    "    return sorted(arr)\n",
    "\n",
    "# Perfect DataFrame\n",
    "perfect_dataframe = pd.DataFrame({\n",
    "    'name': [f'Student_{i}' for i in range(15)],\n",
    "    'age': np.random.randint(18, 25, 15),\n",
    "    'grade': np.random.randint(70, 100, 15)\n",
    "})\n",
    "\n",
    "# Create perfect submission\n",
    "perfect_submission = {\n",
    "    'circle_area': perfect_circle_area,\n",
    "    'student_data': perfect_dataframe,\n",
    "    'my_sort': perfect_sort\n",
    "}\n",
    "\n",
    "# Grade the perfect submission\n",
    "result = grader.submit(\"excellent_student\", perfect_submission)\n",
    "\n",
    "print(\"🎯 PERFECT STUDENT RESULTS:\")\n",
    "print(f\"Total Score: {result['total_score']}/{result['max_score']} ({result['percentage']:.1f}%)\")\n",
    "print(\"\\nDetailed Results:\")\n",
    "for test_name, test_result in result['test_results'].items():\n",
    "    print(f\"  📝 {test_name}: {test_result['points_earned']:.1f}/{test_result['points_possible']} points\")\n",
    "    print(f\"     Status: {test_result['status']}\")\n",
    "    if test_result['feedback']:\n",
    "        feedback_preview = test_result['feedback'][:100] + ('...' if len(test_result['feedback']) > 100 else '')\n",
    "        print(f\"     Feedback: {feedback_preview}\")"
   ]
  },
  {
   "cell_type": "markdown",
   "id": "7243698f",
   "metadata": {},
   "source": [
    "## Step 4: Test with Imperfect Submission\n",
    "\n",
    "**Test how your grading handles mistakes** and partial credit."
   ]
  },
  {
   "cell_type": "code",
   "execution_count": 6,
   "id": "be2d09c9",
   "metadata": {},
   "outputs": [
    {
     "name": "stdout",
     "output_type": "stream",
     "text": [
      "🎯 IMPERFECT STUDENT RESULTS:\n",
      "Total Score: 30.0/45 (66.7%)\n",
      "\n",
      "Detailed Results:\n",
      "  📝 circle_area_test: 2.5/10 points\n",
      "     Status: PARTIAL\n",
      "     Feedback: Circle Area Test: 1/4 test cases passed\n",
      "❌ Wrong for radius=1: got 3.14, expected 3.142\n",
      "❌ Wrong for radius=3: got 28.259999999999998, expected 28.274\n",
      "✅...\n",
      "\n",
      "  📝 dataframe_test: 7.5/15 points\n",
      "     Status: PARTIAL\n",
      "     Feedback: DataFrame Test: 2/4 requirements met\n",
      "✅ Good shape: (12, 3) (at least 10 rows, 3 columns)\n",
      "❌ Missing columns: ['name', 'age', 'grade']\n",
      "❌ Age column shou...\n",
      "\n",
      "  📝 sorting_test: 20.0/20 points\n",
      "     Status: PASS\n",
      "     Feedback: Sorting Test: 5/5 test cases passed\n",
      "✅ Correct for [3, 1, 4, 1, 5]\n",
      "✅ Correct for [1]\n",
      "✅ Correct for []\n",
      "✅ Correct for [5, 4, 3, 2, 1]\n",
      "✅ Correct for [1, 2...\n",
      "\n"
     ]
    }
   ],
   "source": [
    "# STEP 4: Test with an imperfect student submission\n",
    "\n",
    "# Imperfect implementations\n",
    "def imperfect_circle_area(radius):\n",
    "    return 3.14 * radius * radius  # Uses approximation instead of math.pi\n",
    "\n",
    "def bubble_sort(arr):\n",
    "    # Inefficient but correct bubble sort\n",
    "    n = len(arr)\n",
    "    for i in range(n):\n",
    "        for j in range(0, n-i-1):\n",
    "            if arr[j] > arr[j+1]:\n",
    "                arr[j], arr[j+1] = arr[j+1], arr[j]\n",
    "    return arr\n",
    "\n",
    "# Imperfect DataFrame (wrong column names)\n",
    "imperfect_dataframe = pd.DataFrame({\n",
    "    'student_name': [f'Student_{i}' for i in range(12)],  # Wrong column name\n",
    "    'student_age': np.random.randint(18, 25, 12),          # Wrong column name\n",
    "    'final_grade': np.random.randint(60, 100, 12)          # Wrong column name\n",
    "})\n",
    "\n",
    "# Create imperfect submission\n",
    "imperfect_submission = {\n",
    "    'circle_area': imperfect_circle_area,\n",
    "    'student_data': imperfect_dataframe,\n",
    "    'my_sort': bubble_sort\n",
    "}\n",
    "\n",
    "# Grade the imperfect submission\n",
    "result2 = grader.submit(\"struggling_student\", imperfect_submission)\n",
    "\n",
    "print(\"🎯 IMPERFECT STUDENT RESULTS:\")\n",
    "print(f\"Total Score: {result2['total_score']:.1f}/{result2['max_score']} ({result2['percentage']:.1f}%)\")\n",
    "print(\"\\nDetailed Results:\")\n",
    "for test_name, test_result in result2['test_results'].items():\n",
    "    print(f\"  📝 {test_name}: {test_result['points_earned']:.1f}/{test_result['points_possible']} points\")\n",
    "    print(f\"     Status: {test_result['status']}\")\n",
    "    if test_result['feedback']:\n",
    "        feedback_preview = test_result['feedback'][:150] + ('...' if len(test_result['feedback']) > 150 else '')\n",
    "        print(f\"     Feedback: {feedback_preview}\")\n",
    "    print()"
   ]
  },
  {
   "cell_type": "markdown",
   "id": "c3f14166",
   "metadata": {},
   "source": [
    "## Step 5: View Grade Analytics\n",
    "\n",
    "**Check class performance** and generate reports."
   ]
  },
  {
   "cell_type": "code",
   "execution_count": 7,
   "id": "c41e0bc3",
   "metadata": {},
   "outputs": [
    {
     "name": "stdout",
     "output_type": "stream",
     "text": [
      "📊 CLASS ANALYTICS\n",
      "==================================================\n",
      "👥 Total Students: 2\n",
      "📈 Average Score: 37.5/45 (83.3%)\n",
      "🔝 Highest Score: 45.0/45\n",
      "📉 Lowest Score: 30.0/45\n",
      "\n",
      "👥 INDIVIDUAL RESULTS:\n",
      "  📝 excellent_student: 45.0/45 (100.0%) - 1 submissions\n",
      "  📝 struggling_student: 30.0/45 (66.7%) - 1 submissions\n"
     ]
    },
    {
     "data": {
      "image/png": "[encoded data removed]",
      "text/plain": [
       "<Figure size 1000x600 with 1 Axes>"
      ]
     },
     "metadata": {},
     "output_type": "display_data"
    },
    {
     "name": "stdout",
     "output_type": "stream",
     "text": [
      "\n",
      "✅ Assignment creation complete!\n",
      "📁 All data saved in: grader_data/\n",
      "📝 Share this homework name with students: 'Python_Homework_1'\n"
     ]
    }
   ],
   "source": [
    "# STEP 5: View grade analytics\n",
    "\n",
    "# Get all student grades from the grader's data\n",
    "all_grades = grader.grades_data[\"students\"]\n",
    "\n",
    "print(\"📊 CLASS ANALYTICS\")\n",
    "print(\"=\" * 50)\n",
    "\n",
    "if all_grades:\n",
    "    # Calculate statistics\n",
    "    scores = [grade_data['best_score'] for grade_data in all_grades.values()]\n",
    "    \n",
    "    print(f\"👥 Total Students: {len(scores)}\")\n",
    "    print(f\"📈 Average Score: {np.mean(scores):.1f}/{grader.homework_data['max_score']} ({np.mean(scores)/grader.homework_data['max_score']*100:.1f}%)\")\n",
    "    print(f\"🔝 Highest Score: {max(scores):.1f}/{grader.homework_data['max_score']}\")\n",
    "    print(f\"📉 Lowest Score: {min(scores):.1f}/{grader.homework_data['max_score']}\")\n",
    "    \n",
    "    # Show individual student results\n",
    "    print(\"\\n👥 INDIVIDUAL RESULTS:\")\n",
    "    for student_id, data in all_grades.items():\n",
    "        percentage = (data['best_score'] / grader.homework_data['max_score']) * 100\n",
    "        print(f\"  📝 {student_id}: {data['best_score']:.1f}/{grader.homework_data['max_score']} ({percentage:.1f}%) - {len(data['submissions'])} submissions\")\n",
    "    \n",
    "    # Create a simple grade distribution plot\n",
    "    plt.figure(figsize=(10, 6))\n",
    "    plt.hist([s/grader.homework_data['max_score']*100 for s in scores], bins=10, alpha=0.7, edgecolor='black')\n",
    "    plt.xlabel('Score Percentage')\n",
    "    plt.ylabel('Number of Students')\n",
    "    plt.title(f'Grade Distribution for {homework_name}')\n",
    "    plt.grid(True, alpha=0.3)\n",
    "    plt.show()\n",
    "else:\n",
    "    print(\"No student submissions yet!\")\n",
    "\n",
    "print(\"\\n✅ Assignment creation complete!\")\n",
    "print(f\"📁 All data saved in: grader_data/\")\n",
    "print(f\"📝 Share this homework name with students: '{homework_name}'\")"
   ]
  },
  {
   "cell_type": "markdown",
   "id": "dc30b71a",
   "metadata": {},
   "source": [
    "## 🎉 You're Done!\n",
    "\n",
    "### What You Created:\n",
    "- ✅ **Homework Assignment**: `{homework_name}`\n",
    "- ✅ **3 Test Cases**: Math function (10 pts), DataFrame (15 pts), Sorting (20 pts)\n",
    "- ✅ **Total Points**: 45 points\n",
    "- ✅ **Sample Submissions**: Tested with perfect and imperfect examples\n",
    "\n",
    "### Next Steps:\n",
    "1. **📝 Modify test cases** above to match your curriculum\n",
    "2. **📊 Create student assignment** using the Student Guide\n",
    "3. **👥 Share homework name** with your students\n",
    "4. **📈 Monitor progress** using the analytics above\n",
    "\n",
    "### Files Created:\n",
    "- `grader_data/homework_{homework_name}.json` - Assignment configuration\n",
    "- `grader_data/grades_{homework_name}.json` - Student grades\n",
    "- `grader_data/tests_{homework_name}/` - Test case files\n",
    "\n",
    "**Your assignment is ready for students!** 🚀"
   ]
  }
 ],
 "metadata": {
  "kernelspec": {
   "display_name": ".venv (3.12.4)",
   "language": "python",
   "name": "python3"
  },
  "language_info": {
   "codemirror_mode": {
    "name": "ipython",
    "version": 3
   },
   "file_extension": ".py",
   "mimetype": "text/x-python",
   "name": "python",
   "nbconvert_exporter": "python",
   "pygments_lexer": "ipython3",
   "version": "3.12.4"
  }
 },
 "nbformat": 4,
 "nbformat_minor": 5
}
