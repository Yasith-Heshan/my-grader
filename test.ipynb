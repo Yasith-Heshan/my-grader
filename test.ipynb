{
 "cells": [
  {
   "cell_type": "code",
   "execution_count": 1,
   "id": "47b34975",
   "metadata": {},
   "outputs": [
    {
     "name": "stderr",
     "output_type": "stream",
     "text": [
      "ERROR:root:Error creating index: Index build failed: b86ed97a-8e9f-48ba-bee5-c8ea42b02817: Collection grader_system.grades ( 65e58260-1e9e-4d36-8d5c-b9dd1746191b ) :: caused by :: E11000 duplicate key error collection: grader_system.grades index: homework_name_1 dup key: { homework_name: \"Math Assignment 1\" }, full error: {'ok': 0.0, 'errmsg': 'Index build failed: b86ed97a-8e9f-48ba-bee5-c8ea42b02817: Collection grader_system.grades ( 65e58260-1e9e-4d36-8d5c-b9dd1746191b ) :: caused by :: E11000 duplicate key error collection: grader_system.grades index: homework_name_1 dup key: { homework_name: \"Math Assignment 1\" }', 'code': 11000, 'codeName': 'DuplicateKey', 'keyPattern': {'homework_name': 1}, 'keyValue': {'homework_name': 'Math Assignment 1'}, '$clusterTime': {'clusterTime': Timestamp(1759800069, 9), 'signature': {'hash': b'\\x89\\x87\\xadW\\xf9\\xf8J\\x13\\xa9\\xd6\\xe3\\x97<\\x15\\x01\\x0e\\xfb\\xd9\\xe2B', 'keyId': 7493291040305053698}}, 'operationTime': Timestamp(1759800069, 9)}\n"
     ]
    }
   ],
   "source": [
    "# Initialize the system\n",
    "\n",
    "from assignement import Assignment \n",
    "from teacher import Teacher\n",
    "from student import Student\n",
    "\n",
    "assignement = Assignment(\"Math Assignment 2\")\n",
    "teacher = Teacher(assignement.grader)\n",
    "student = Student(\"Yasith\", assignement.grader)"
   ]
  },
  {
   "cell_type": "code",
   "execution_count": 2,
   "id": "663b32fe",
   "metadata": {},
   "outputs": [],
   "source": [
    "# Test case for circle_area function\n",
    "\n",
    "import math\n",
    "from test_case import TestCase\n",
    "\n",
    "\n",
    "test_case_name = \"circle_area_test_case\"\n",
    "\n",
    "def test_circle_area(submission):\n",
    "    \"\"\"\n",
    "    Test if the student correctly implemented circle_area function\n",
    "    \"\"\"\n",
    "    # Check if function exists\n",
    "    if test_case_name not in submission:\n",
    "        return {\"score\": 0, \"feedback\": f\"❌ Function {test_case_name} not found!\"}\n",
    "    \n",
    "    func = submission[test_case_name]\n",
    "    \n",
    "    # Test with multiple inputs\n",
    "    test_cases = [\n",
    "        (1, math.pi),           # radius=1, expected=π\n",
    "        (3, 9 * math.pi),       # radius=3, expected=9π\n",
    "        (0, 0),                 # radius=0, expected=0\n",
    "        (5.5, 30.25 * math.pi)  # radius=5.5, expected=30.25π\n",
    "    ]\n",
    "    \n",
    "    score = 0\n",
    "    feedback_parts = []\n",
    "    \n",
    "    for radius, expected in test_cases:\n",
    "        try:\n",
    "            result = func(radius)\n",
    "            if abs(result - expected) < 0.001:  # Allow small floating point errors\n",
    "                score += 1\n",
    "                feedback_parts.append(f\"✅ Correct for radius={radius}\")\n",
    "            else:\n",
    "                feedback_parts.append(f\"❌ Wrong for radius={radius}: got {result}, expected {expected:.3f}\")\n",
    "        except Exception as e:\n",
    "            feedback_parts.append(f\"❌ Error for radius={radius}: {str(e)}\")\n",
    "    \n",
    "    final_score = score / len(test_cases)\n",
    "    feedback = f\"Circle Area Test: {score}/{len(test_cases)} test cases passed\\n\" + \"\\n\".join(feedback_parts)\n",
    "    \n",
    "    return {\"score\": final_score, \"feedback\": feedback}\n",
    "\n",
    "test_case = TestCase(\n",
    "    name=test_case_name,\n",
    "    test_function=test_circle_area,\n",
    "    points=5,\n",
    "    description=\"Tests the circle_area function with various radius.\"\n",
    ")"
   ]
  },
  {
   "cell_type": "code",
   "execution_count": 3,
   "id": "68d1623c",
   "metadata": {},
   "outputs": [
    {
     "name": "stdout",
     "output_type": "stream",
     "text": [
      "✅ Added test case 'circle_area_test_case' (5 points)\n"
     ]
    }
   ],
   "source": [
    "# Add the test case to the teacher's grader\n",
    "teacher.add_test_case(test_case)"
   ]
  },
  {
   "cell_type": "code",
   "execution_count": 4,
   "id": "ff393e35",
   "metadata": {},
   "outputs": [],
   "source": [
    "# create a submission\n",
    "from submission import Submission\n",
    "\n",
    "def circle_area_by_student(radius):\n",
    "    return math.pi * radius * radius\n",
    "\n",
    "submission = Submission()\n",
    "\n",
    "submission.add_submission_item(\"circle_area_test_case\", circle_area_by_student)"
   ]
  },
  {
   "cell_type": "code",
   "execution_count": 5,
   "id": "6f2acf61",
   "metadata": {},
   "outputs": [],
   "source": [
    "# submit answer by student\n",
    "result = student.submit_assignment(submission)"
   ]
  },
  {
   "cell_type": "code",
   "execution_count": 6,
   "id": "b9a2619d",
   "metadata": {},
   "outputs": [
    {
     "name": "stdout",
     "output_type": "stream",
     "text": [
      "Score: 5.0/5 (100.0%)\n"
     ]
    }
   ],
   "source": [
    "print(\"Score:\", f\"{result['total_score']}/{result['max_score']} ({result['percentage']:.1f}%)\")"
   ]
  },
  {
   "cell_type": "code",
   "execution_count": 7,
   "id": "b8b8b0ee",
   "metadata": {},
   "outputs": [
    {
     "name": "stdout",
     "output_type": "stream",
     "text": [
      "Submitting student work...\n",
      "✅ Submission complete!\n",
      "Score: 5.0/5 (100.0%)\n",
      "\n",
      "circle_area_test_case:\n",
      "  Status: PASS\n",
      "  Score: 5.0/5\n",
      "  Feedback: Circle Area Test: 4/4 test cases passed\n",
      "✅ Correct for radius=1\n",
      "✅ Correct for radius=3\n",
      "✅ Correct for radius=0\n",
      "✅ Correct for radius=5.5\n",
      "\n",
      "🎉 MongoDB migration with pickle storage is working perfectly!\n",
      "✅ Test functions are stored as binary data in MongoDB\n",
      "✅ All grading functionality works without any file dependencies\n",
      "✅ Submission complete!\n",
      "Score: 5.0/5 (100.0%)\n",
      "\n",
      "circle_area_test_case:\n",
      "  Status: PASS\n",
      "  Score: 5.0/5\n",
      "  Feedback: Circle Area Test: 4/4 test cases passed\n",
      "✅ Correct for radius=1\n",
      "✅ Correct for radius=3\n",
      "✅ Correct for radius=0\n",
      "✅ Correct for radius=5.5\n",
      "\n",
      "🎉 MongoDB migration with pickle storage is working perfectly!\n",
      "✅ Test functions are stored as binary data in MongoDB\n",
      "✅ All grading functionality works without any file dependencies\n"
     ]
    }
   ],
   "source": [
    "# Test the submission process\n",
    "from submission import Submission\n",
    "\n",
    "def circle_area_by_student(radius):\n",
    "    return math.pi * radius * radius\n",
    "\n",
    "submission = Submission()\n",
    "submission.add_submission_item(\"circle_area_test_case\", circle_area_by_student)\n",
    "\n",
    "print(\"Submitting student work...\")\n",
    "result = student.submit_assignment(submission)\n",
    "\n",
    "print(f\"✅ Submission complete!\")\n",
    "print(f\"Score: {result['total_score']}/{result['max_score']} ({result['percentage']:.1f}%)\")\n",
    "\n",
    "# Check test results\n",
    "for test_name, test_result in result['test_results'].items():\n",
    "    print(f\"\\n{test_name}:\")\n",
    "    print(f\"  Status: {test_result['status']}\")\n",
    "    print(f\"  Score: {test_result['points_earned']}/{test_result['points_possible']}\")\n",
    "    print(f\"  Feedback: {test_result['feedback']}\")\n",
    "\n",
    "print(\"\\n🎉 MongoDB migration with pickle storage is working perfectly!\")\n",
    "print(\"✅ Test functions are stored as binary data in MongoDB\")\n",
    "print(\"✅ All grading functionality works without any file dependencies\")"
   ]
  },
  {
   "cell_type": "code",
   "execution_count": 8,
   "id": "dc3c19de",
   "metadata": {},
   "outputs": [
    {
     "name": "stdout",
     "output_type": "stream",
     "text": [
      "Found modules to reload: ['local_grader', 'assignement', 'student', 'use_cases']\n",
      "Creating assignment...\n",
      "Creating teacher...\n",
      "Creating student...\n",
      "System reinitialized!\n"
     ]
    }
   ],
   "source": [
    "# DEBUG: Fresh restart test\n",
    "\n",
    "# Force reload all modules\n",
    "import sys\n",
    "modules_to_reload = [mod for mod in sys.modules.keys() if any(x in mod for x in ['local_grader', 'use_cases', 'student', 'assignement'])]\n",
    "print(f\"Found modules to reload: {modules_to_reload}\")\n",
    "\n",
    "for mod in modules_to_reload:\n",
    "    if mod in sys.modules:\n",
    "        del sys.modules[mod]\n",
    "\n",
    "# Fresh imports\n",
    "from assignement import Assignment \n",
    "from teacher import Teacher\n",
    "from student import Student\n",
    "\n",
    "print(\"Creating assignment...\")\n",
    "assignement = Assignment(\"Math Assignment 2\")\n",
    "print(\"Creating teacher...\")\n",
    "teacher = Teacher(assignement.grader)\n",
    "print(\"Creating student...\")\n",
    "student = Student(\"Yasith\", assignement.grader)\n",
    "print(\"System reinitialized!\")"
   ]
  }
 ],
 "metadata": {
  "kernelspec": {
   "display_name": ".venv (3.12.4)",
   "language": "python",
   "name": "python3"
  },
  "language_info": {
   "codemirror_mode": {
    "name": "ipython",
    "version": 3
   },
   "file_extension": ".py",
   "mimetype": "text/x-python",
   "name": "python",
   "nbconvert_exporter": "python",
   "pygments_lexer": "ipython3",
   "version": "3.12.4"
  }
 },
 "nbformat": 4,
 "nbformat_minor": 5
}
